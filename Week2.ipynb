{
 "cells": [
  {
   "cell_type": "markdown",
   "id": "5190b54c-d49c-4d6f-80cc-22555336a9cd",
   "metadata": {},
   "source": [
    "# Week 2 - Preprocessing, part 2\n",
    "\n",
    "# 1. Lesson: None"
   ]
  },
  {
   "cell_type": "markdown",
   "id": "47c4e5ff-b05f-4ef2-96f1-49dcb5beb158",
   "metadata": {},
   "source": [
    "# 2. Weekly graph question"
   ]
  },
  {
   "cell_type": "markdown",
   "id": "aad37e29-6e84-41fa-886d-abc1312213ab",
   "metadata": {},
   "source": [
    "The Storytelling With Data book mentions planning on a \"Who, What, and How\" for your data story.  Write down a possible Who, What, and How for your data, using the ideas in the book."
   ]
  },
  {
   "cell_type": "code",
   "execution_count": null,
   "id": "c862fc32-1297-4587-b9da-4b0642ab3e6e",
   "metadata": {},
   "outputs": [],
   "source": [
    "# who: a group of c-suite executives\n",
    "# what: customer churn data\n",
    "# why: to discuss methods tto increase customer retention"
   ]
  },
  {
   "cell_type": "markdown",
   "id": "898eb327-aefd-4ac0-b95a-92b616a2181b",
   "metadata": {},
   "source": [
    "# 3. Homework - work with your own data"
   ]
  },
  {
   "cell_type": "code",
   "execution_count": 1,
   "id": "fe925521-979f-4983-8d85-8db8d1316e99",
   "metadata": {},
   "outputs": [],
   "source": [
    "import pandas as pd\n",
    "import numpy as np\n",
    "from datetime import datetime, timedelta"
   ]
  },
  {
   "cell_type": "markdown",
   "id": "14836788-b235-4cd4-b94d-5f749c6141a8",
   "metadata": {},
   "source": [
    "This week, you will do the same types of exercises as last week, but you should use your chosen datasets that someone in your class found last semester. (They likely will not be the particular datasets that you found yourself.)\n",
    "\n",
    "### Here are some types of analysis you can do  Use Google, documentation, and ChatGPT to help you:\n",
    "\n",
    "- Summarize the datasets using info() and describe()\n",
    "\n",
    "- Are there any duplicate rows?\n",
    "\n",
    "- Are there any duplicate values in a given column (when this would be inappropriate?)\n",
    "\n",
    "- What are the mean, median, and mode of each column?\n",
    "\n",
    "- Are there any missing or null values?\n",
    "\n",
    "    - Do you want to fill in the missing value with a mean value?  A value of your choice?  Remove that row?\n",
    "\n",
    "- Identify any other inconsistent data (e.g. someone seems to be taking an action before they are born.)\n",
    "\n",
    "- Encode any categorical variables (e.g. with one-hot encoding.)\n",
    "\n",
    "### Conclusions:\n",
    "\n",
    "- Are the data usable?  If not, find some new data!\n",
    "\n",
    "- Do you need to modify or correct the data in some way?\n",
    "\n",
    "- Is there any class imbalance?  (Categories that have many more items than other categories)."
   ]
  },
  {
   "cell_type": "code",
   "execution_count": 7,
   "id": "5e3ac777",
   "metadata": {},
   "outputs": [
    {
     "name": "stdout",
     "output_type": "stream",
     "text": [
      "<class 'pandas.core.frame.DataFrame'>\n",
      "RangeIndex: 2200 entries, 0 to 2199\n",
      "Data columns (total 8 columns):\n",
      " #   Column       Non-Null Count  Dtype  \n",
      "---  ------       --------------  -----  \n",
      " 0   Nitrogen     2200 non-null   int64  \n",
      " 1   Phosphorus   2200 non-null   int64  \n",
      " 2   Potassium    2200 non-null   int64  \n",
      " 3   Temperature  2200 non-null   float64\n",
      " 4   Humidity     2200 non-null   float64\n",
      " 5   pH_Value     2200 non-null   float64\n",
      " 6   Rainfall     2200 non-null   float64\n",
      " 7   Crop         2200 non-null   object \n",
      "dtypes: float64(4), int64(3), object(1)\n",
      "memory usage: 137.6+ KB\n"
     ]
    },
    {
     "data": {
      "text/html": [
       "<div>\n",
       "<style scoped>\n",
       "    .dataframe tbody tr th:only-of-type {\n",
       "        vertical-align: middle;\n",
       "    }\n",
       "\n",
       "    .dataframe tbody tr th {\n",
       "        vertical-align: top;\n",
       "    }\n",
       "\n",
       "    .dataframe thead th {\n",
       "        text-align: right;\n",
       "    }\n",
       "</style>\n",
       "<table border=\"1\" class=\"dataframe\">\n",
       "  <thead>\n",
       "    <tr style=\"text-align: right;\">\n",
       "      <th></th>\n",
       "      <th>Nitrogen</th>\n",
       "      <th>Phosphorus</th>\n",
       "      <th>Potassium</th>\n",
       "      <th>Temperature</th>\n",
       "      <th>Humidity</th>\n",
       "      <th>pH_Value</th>\n",
       "      <th>Rainfall</th>\n",
       "    </tr>\n",
       "  </thead>\n",
       "  <tbody>\n",
       "    <tr>\n",
       "      <th>count</th>\n",
       "      <td>2200.000000</td>\n",
       "      <td>2200.000000</td>\n",
       "      <td>2200.000000</td>\n",
       "      <td>2200.000000</td>\n",
       "      <td>2200.000000</td>\n",
       "      <td>2200.000000</td>\n",
       "      <td>2200.000000</td>\n",
       "    </tr>\n",
       "    <tr>\n",
       "      <th>mean</th>\n",
       "      <td>50.551818</td>\n",
       "      <td>53.362727</td>\n",
       "      <td>48.149091</td>\n",
       "      <td>25.616244</td>\n",
       "      <td>71.481779</td>\n",
       "      <td>6.469480</td>\n",
       "      <td>103.463655</td>\n",
       "    </tr>\n",
       "    <tr>\n",
       "      <th>std</th>\n",
       "      <td>36.917334</td>\n",
       "      <td>32.985883</td>\n",
       "      <td>50.647931</td>\n",
       "      <td>5.063749</td>\n",
       "      <td>22.263812</td>\n",
       "      <td>0.773938</td>\n",
       "      <td>54.958389</td>\n",
       "    </tr>\n",
       "    <tr>\n",
       "      <th>min</th>\n",
       "      <td>0.000000</td>\n",
       "      <td>5.000000</td>\n",
       "      <td>5.000000</td>\n",
       "      <td>8.825675</td>\n",
       "      <td>14.258040</td>\n",
       "      <td>3.504752</td>\n",
       "      <td>20.211267</td>\n",
       "    </tr>\n",
       "    <tr>\n",
       "      <th>25%</th>\n",
       "      <td>21.000000</td>\n",
       "      <td>28.000000</td>\n",
       "      <td>20.000000</td>\n",
       "      <td>22.769375</td>\n",
       "      <td>60.261953</td>\n",
       "      <td>5.971693</td>\n",
       "      <td>64.551686</td>\n",
       "    </tr>\n",
       "    <tr>\n",
       "      <th>50%</th>\n",
       "      <td>37.000000</td>\n",
       "      <td>51.000000</td>\n",
       "      <td>32.000000</td>\n",
       "      <td>25.598693</td>\n",
       "      <td>80.473146</td>\n",
       "      <td>6.425045</td>\n",
       "      <td>94.867624</td>\n",
       "    </tr>\n",
       "    <tr>\n",
       "      <th>75%</th>\n",
       "      <td>84.250000</td>\n",
       "      <td>68.000000</td>\n",
       "      <td>49.000000</td>\n",
       "      <td>28.561654</td>\n",
       "      <td>89.948771</td>\n",
       "      <td>6.923643</td>\n",
       "      <td>124.267508</td>\n",
       "    </tr>\n",
       "    <tr>\n",
       "      <th>max</th>\n",
       "      <td>140.000000</td>\n",
       "      <td>145.000000</td>\n",
       "      <td>205.000000</td>\n",
       "      <td>43.675493</td>\n",
       "      <td>99.981876</td>\n",
       "      <td>9.935091</td>\n",
       "      <td>298.560117</td>\n",
       "    </tr>\n",
       "  </tbody>\n",
       "</table>\n",
       "</div>"
      ],
      "text/plain": [
       "          Nitrogen   Phosphorus    Potassium  Temperature     Humidity  \\\n",
       "count  2200.000000  2200.000000  2200.000000  2200.000000  2200.000000   \n",
       "mean     50.551818    53.362727    48.149091    25.616244    71.481779   \n",
       "std      36.917334    32.985883    50.647931     5.063749    22.263812   \n",
       "min       0.000000     5.000000     5.000000     8.825675    14.258040   \n",
       "25%      21.000000    28.000000    20.000000    22.769375    60.261953   \n",
       "50%      37.000000    51.000000    32.000000    25.598693    80.473146   \n",
       "75%      84.250000    68.000000    49.000000    28.561654    89.948771   \n",
       "max     140.000000   145.000000   205.000000    43.675493    99.981876   \n",
       "\n",
       "          pH_Value     Rainfall  \n",
       "count  2200.000000  2200.000000  \n",
       "mean      6.469480   103.463655  \n",
       "std       0.773938    54.958389  \n",
       "min       3.504752    20.211267  \n",
       "25%       5.971693    64.551686  \n",
       "50%       6.425045    94.867624  \n",
       "75%       6.923643   124.267508  \n",
       "max       9.935091   298.560117  "
      ]
     },
     "execution_count": 7,
     "metadata": {},
     "output_type": "execute_result"
    }
   ],
   "source": [
    "df = pd.read_csv('Crop_Recommendation.csv')\n",
    "df.info()\n",
    "df.describe()\n",
    "\n"
   ]
  },
  {
   "cell_type": "code",
   "execution_count": null,
   "id": "413b0a38",
   "metadata": {},
   "outputs": [
    {
     "name": "stdout",
     "output_type": "stream",
     "text": [
      "Empty DataFrame\n",
      "Columns: [Nitrogen, Phosphorus, Potassium, Temperature, Humidity, pH_Value, Rainfall, Crop]\n",
      "Index: []\n"
     ]
    }
   ],
   "source": [
    "duplicates = df[df.duplicated()]\n",
    "print(duplicates)\n",
    "\n",
    "print('There are no duplicated data rows')"
   ]
  },
  {
   "cell_type": "code",
   "execution_count": 9,
   "id": "cbe5fa6a",
   "metadata": {},
   "outputs": [
    {
     "name": "stdout",
     "output_type": "stream",
     "text": [
      "Nitrogen       [69, 90, 78, 94, 60, 85, 91, 89, 97, 98, 88, 9...\n",
      "Phosphorus     [42, 55, 58, 53, 35, 38, 59, 50, 37, 54, 57, 4...\n",
      "Potassium      [42, 40, 38, 44, 41, 39, 36, 43, 37, 35, 45, 1...\n",
      "Temperature                                                   []\n",
      "Humidity                                                      []\n",
      "pH_Value                                                      []\n",
      "Rainfall                                                      []\n",
      "Crop           [Rice, Maize, ChickPea, KidneyBeans, PigeonPea...\n",
      "dtype: object\n",
      "There are duplicated values but that is not an issue with this dataset. It would be important to do this top chedck if there are duplicated IDs for different records, for instance\n"
     ]
    }
   ],
   "source": [
    "duplicate_values = df.apply(lambda x: x[x.duplicated()].unique(), axis=0)\n",
    "print(duplicate_values)\n",
    "\n",
    "print('There are duplicated values but that is not an issue with this dataset. It would be important to do this top chedck if there are duplicated IDs for different records, for instance')"
   ]
  },
  {
   "cell_type": "code",
   "execution_count": 15,
   "id": "470c1e42",
   "metadata": {},
   "outputs": [
    {
     "name": "stdout",
     "output_type": "stream",
     "text": [
      "The mean vales are: Nitrogen        50.551818\n",
      "Phosphorus      53.362727\n",
      "Potassium       48.149091\n",
      "Temperature     25.616244\n",
      "Humidity        71.481779\n",
      "pH_Value         6.469480\n",
      "Rainfall       103.463655\n",
      "dtype: float64\n",
      "The median vales are: Nitrogen       37.000000\n",
      "Phosphorus     51.000000\n",
      "Potassium      32.000000\n",
      "Temperature    25.598693\n",
      "Humidity       80.473146\n",
      "pH_Value        6.425045\n",
      "Rainfall       94.867624\n",
      "dtype: float64\n",
      "The mode vales are:       Nitrogen  Phosphorus  Potassium  Temperature   Humidity  pH_Value  \\\n",
      "0         22.0        60.0       17.0     8.825675  14.258040  3.504752   \n",
      "1         40.0         NaN        NaN     9.467960  14.273280  3.510404   \n",
      "2          NaN         NaN        NaN     9.535586  14.280419  3.525366   \n",
      "3          NaN         NaN        NaN     9.724458  14.323138  3.532009   \n",
      "4          NaN         NaN        NaN     9.851243  14.338474  3.558823   \n",
      "...        ...         ...        ...          ...        ...       ...   \n",
      "2195       NaN         NaN        NaN    43.037143  99.658092  9.416003   \n",
      "2196       NaN         NaN        NaN    43.080227  99.724010  9.459493   \n",
      "2197       NaN         NaN        NaN    43.302049  99.846716  9.679241   \n",
      "2198       NaN         NaN        NaN    43.360515  99.969060  9.926212   \n",
      "2199       NaN         NaN        NaN    43.675493  99.981876  9.935091   \n",
      "\n",
      "        Rainfall  \n",
      "0      20.211267  \n",
      "1      20.360011  \n",
      "2      20.390205  \n",
      "3      20.490356  \n",
      "4      20.661278  \n",
      "...          ...  \n",
      "2195  291.298662  \n",
      "2196  295.609449  \n",
      "2197  295.924880  \n",
      "2198  298.401847  \n",
      "2199  298.560117  \n",
      "\n",
      "[2200 rows x 7 columns]\n"
     ]
    }
   ],
   "source": [
    "df_2 = df.drop(columns=['Crop'])\n",
    "\n",
    "mean_values = df_2.mean()\n",
    "median_values = df_2.median()\n",
    "mode_values = df_2.mode()\n",
    "\n",
    "print('The mean vales are:',mean_values)\n",
    "print('The median vales are:',median_values)\n",
    "print('The mode vales are:',mode_values)"
   ]
  },
  {
   "cell_type": "code",
   "execution_count": 17,
   "id": "f961440d",
   "metadata": {},
   "outputs": [
    {
     "name": "stdout",
     "output_type": "stream",
     "text": [
      "Nitrogen       0\n",
      "Phosphorus     0\n",
      "Potassium      0\n",
      "Temperature    0\n",
      "Humidity       0\n",
      "pH_Value       0\n",
      "Rainfall       0\n",
      "Crop           0\n",
      "dtype: int64\n",
      "There are no missing values\n"
     ]
    }
   ],
   "source": [
    "missing_values = df.isnull().sum()\n",
    "\n",
    "print(missing_values)\n",
    "print('There are no missing values')"
   ]
  },
  {
   "cell_type": "code",
   "execution_count": 18,
   "id": "3fee03c9",
   "metadata": {},
   "outputs": [
    {
     "name": "stdout",
     "output_type": "stream",
     "text": [
      "   Nitrogen  Phosphorus  Potassium  Temperature   Humidity  pH_Value  \\\n",
      "0        90          42         43    20.879744  82.002744  6.502985   \n",
      "1        85          58         41    21.770462  80.319644  7.038096   \n",
      "2        60          55         44    23.004459  82.320763  7.840207   \n",
      "3        74          35         40    26.491096  80.158363  6.980401   \n",
      "4        78          42         42    20.130175  81.604873  7.628473   \n",
      "\n",
      "     Rainfall  Crop_Banana  Crop_Blackgram  Crop_ChickPea  ...  Crop_Mango  \\\n",
      "0  202.935536        False           False          False  ...       False   \n",
      "1  226.655537        False           False          False  ...       False   \n",
      "2  263.964248        False           False          False  ...       False   \n",
      "3  242.864034        False           False          False  ...       False   \n",
      "4  262.717340        False           False          False  ...       False   \n",
      "\n",
      "   Crop_MothBeans  Crop_MungBean  Crop_Muskmelon  Crop_Orange  Crop_Papaya  \\\n",
      "0           False          False           False        False        False   \n",
      "1           False          False           False        False        False   \n",
      "2           False          False           False        False        False   \n",
      "3           False          False           False        False        False   \n",
      "4           False          False           False        False        False   \n",
      "\n",
      "   Crop_PigeonPeas  Crop_Pomegranate  Crop_Rice  Crop_Watermelon  \n",
      "0            False             False       True            False  \n",
      "1            False             False       True            False  \n",
      "2            False             False       True            False  \n",
      "3            False             False       True            False  \n",
      "4            False             False       True            False  \n",
      "\n",
      "[5 rows x 28 columns]\n"
     ]
    }
   ],
   "source": [
    "categorical_columns = df.select_dtypes(include=['object']).columns\n",
    "df_encoded = pd.get_dummies(df, columns=categorical_columns, drop_first=True)\n",
    "\n",
    "print(df_encoded.head())"
   ]
  },
  {
   "cell_type": "markdown",
   "id": "abab9e6d-18cc-4863-b980-3e52f581763a",
   "metadata": {},
   "source": [
    "# 4. Storytelling With Data graph"
   ]
  },
  {
   "cell_type": "markdown",
   "id": "1911148d-9df6-4b33-a875-8c96408ec834",
   "metadata": {},
   "source": [
    "Just like last week: choose any graph in the Introduction of Storytelling With Data. Use matplotlib to reproduce it in a rough way. I don't expect you to spend an enormous amount of time on this; I understand that you likely will not have time to re-create every feature of the graph. However, if you're excited about learning to use matplotlib, this is a good way to do that. You don't have to duplicate the exact values on the graph; just the same rough shape will be enough.  If you don't feel comfortable using matplotlib yet, do the best you can and write down what you tried or what Google searches you did to find the answers."
   ]
  },
  {
   "cell_type": "code",
   "execution_count": 21,
   "id": "8b2888f9-3700-45ab-9829-6a5372106f9f",
   "metadata": {},
   "outputs": [
    {
     "data": {
      "text/plain": [
       "<matplotlib.legend.Legend at 0x7771e179e4b0>"
      ]
     },
     "execution_count": 21,
     "metadata": {},
     "output_type": "execute_result"
    },
    {
     "data": {
      "image/png": "[encoded data removed]",
      "text/plain": [
       "<Figure size 800x500 with 1 Axes>"
      ]
     },
     "metadata": {},
     "output_type": "display_data"
    }
   ],
   "source": [
    "import matplotlib.pyplot as plt\n",
    "\n",
    "months = [\"January\", \"February\", \"March\", \"April\", \"May\", \"June\", \"July\", \"August\", \n",
    "          \"September\", \"October\", \"November\", \"December\"]\n",
    "received = [160, 184, 241, 149, 180, 150, 160, 202, 132, 126, 124, 140]\n",
    "processed = [160, 184, 237, 149, 179, 150, 159, 196, 126, 120, 119, 137]\n",
    "\n",
    "fig, ax = plt.subplots(figsize=(8, 5))\n",
    "\n",
    "x = range(len(months)) \n",
    "width = .4\n",
    "\n",
    "\n",
    "rects1 = ax.bar([i - width/2 for i in x], received, width, label=\"Ticket Volume Received\", color='blue')\n",
    "rects2 = ax.bar([i + width/2 for i in x], processed, width, label=\"Ticket Volume Processed\", color='red')\n",
    "\n",
    "ax.set_xlabel(\"Months\")\n",
    "ax.set_ylabel(\"Ticket Volume\")\n",
    "ax.set_title(\"Ticket Trend\")\n",
    "ax.set_xticks(x)\n",
    "ax.set_xticklabels(months, rotation=45, ha=\"right\")\n",
    "ax.legend()"
   ]
  }
 ],
 "metadata": {
  "kernelspec": {
   "display_name": "Python 3",
   "language": "python",
   "name": "python3"
  },
  "language_info": {
   "codemirror_mode": {
    "name": "ipython",
    "version": 3
   },
   "file_extension": ".py",
   "mimetype": "text/x-python",
   "name": "python",
   "nbconvert_exporter": "python",
   "pygments_lexer": "ipython3",
   "version": "3.12.1"
  }
 },
 "nbformat": 4,
 "nbformat_minor": 5
}
